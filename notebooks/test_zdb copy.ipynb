{
 "cells": [
  {
   "cell_type": "code",
   "execution_count": 1,
   "id": "1502ca1a",
   "metadata": {},
   "outputs": [
    {
     "name": "stdout",
     "output_type": "stream",
     "text": [
      "71.0 55.0 19.0 258919.0\n",
      "638585572620000000\n",
      "638588161810000000\n"
     ]
    }
   ],
   "source": [
    "import pandas as pd\n",
    "import os\n",
    "import torch\n",
    "import sqlite3\n",
    "from sqlite3 import Error\n",
    "\n",
    "def show_tables(conn):\n",
    "    \"\"\" show all tables in the database \"\"\"\n",
    "    cur = conn.cursor()\n",
    "    query = \"SELECT name FROM sqlite_master WHERE type='table';\"\n",
    "    cur.execute(query)\n",
    "    result = cur.fetchall()\n",
    "    return [result[i][0] for i in range(len(result))]\n",
    "\n",
    "def drop_temporary_tables(conn):\n",
    "    \"\"\" drop temporary tables in the database \"\"\"\n",
    "    cur = conn.cursor()\n",
    "    temporary_table_names = [table for table in show_tables(conn) if 'temporary' in table]\n",
    "    for temporary_table_name in temporary_table_names:\n",
    "        cur.execute(f\"DROP TABLE IF EXISTS {temporary_table_name};\")\n",
    "    conn.commit()\n",
    "    \n",
    "def print_query(query):\n",
    "    cur = conn.cursor()\n",
    "    cur.execute(query)\n",
    "    result = cur.fetchall()\n",
    "    for row in result:\n",
    "        print(row)\n",
    "        \n",
    "\n",
    "\"\"\"\n",
    "For this script, we need to have the zdb files and edf files.\n",
    "\"\"\"\n",
    "\n",
    "# get empty zdb\n",
    "zdb_path = f'data/0_ponemah/Empty ZDB/EKyn Sleep and Sleep Dep 24-Jun PD35.24-Jun-A2.20240806200742.zdb'\n",
    "os.system(f'cp -f \\\"{zdb_path}\\\" \\\"EKyn Sleep and Sleep Dep 24-Jun PD35.24-Jun-A2.20240806200742.zdb\\\"')\n",
    "zdb_path = f'EKyn Sleep and Sleep Dep 24-Jun PD35.24-Jun-A2.20240806200742.zdb'\n",
    "\n",
    "try:\n",
    "    conn = sqlite3.connect(zdb_path)\n",
    "except Error as e:\n",
    "    print(e)\n",
    "\n",
    "# get recording start stop\n",
    "cur = conn.cursor()\n",
    "query = \"SELECT value FROM internal_property WHERE key='RecordingStart'\"\n",
    "cur.execute(query)\n",
    "result = cur.fetchall()\n",
    "recording_start = int(result[0][0])\n",
    "query = \"SELECT value FROM internal_property WHERE key='RecordingStop'\"\n",
    "cur.execute(query)\n",
    "result = cur.fetchall()\n",
    "recording_stop = int(result[0][0])\n",
    "length_ns = recording_stop - recording_start # ns\n",
    "length_s = length_ns * 1e-7 # s\n",
    "hh = length_s // 3600\n",
    "mm = (length_s % 3600) // 60\n",
    "ss = ((length_s % 3600) % 60)\n",
    "print(hh,mm,ss,length_s)\n",
    "print(recording_start)\n",
    "print(recording_stop)"
   ]
  },
  {
   "cell_type": "code",
   "execution_count": 2,
   "id": "ad6062f5",
   "metadata": {},
   "outputs": [
    {
     "data": {
      "text/plain": [
       "['internal_property',\n",
       " 'logging_log_entry',\n",
       " 'scoring_key',\n",
       " 'scoring_marker',\n",
       " 'scoring_revision',\n",
       " 'scoring_revision_to_key',\n",
       " 'scoring_revision_to_comment',\n",
       " 'scoring_comment',\n",
       " 'workspace_workspace',\n",
       " 'temporary_scoring_group',\n",
       " 'temporary_scoring_group_to_key',\n",
       " 'temporary_scoring_group_to_comment',\n",
       " 'temporary_scoring_key',\n",
       " 'temporary_scoring_comment']"
      ]
     },
     "execution_count": 2,
     "metadata": {},
     "output_type": "execute_result"
    }
   ],
   "source": [
    "show_tables(conn)"
   ]
  },
  {
   "cell_type": "code",
   "execution_count": 3,
   "id": "4722bb3d",
   "metadata": {},
   "outputs": [],
   "source": [
    "drop_temporary_tables(conn)"
   ]
  },
  {
   "cell_type": "code",
   "execution_count": 4,
   "id": "ada8c0e8",
   "metadata": {},
   "outputs": [
    {
     "data": {
      "text/plain": [
       "['internal_property',\n",
       " 'logging_log_entry',\n",
       " 'scoring_key',\n",
       " 'scoring_marker',\n",
       " 'scoring_revision',\n",
       " 'scoring_revision_to_key',\n",
       " 'scoring_revision_to_comment',\n",
       " 'scoring_comment',\n",
       " 'workspace_workspace']"
      ]
     },
     "execution_count": 4,
     "metadata": {},
     "output_type": "execute_result"
    }
   ],
   "source": [
    "show_tables(conn)"
   ]
  },
  {
   "cell_type": "code",
   "execution_count": 5,
   "id": "48f83759",
   "metadata": {},
   "outputs": [],
   "source": [
    "cur = conn.cursor()\n",
    "cur.execute(\"INSERT INTO scoring_key (type) VALUES ('Automatic');\")\n",
    "conn.commit()\n",
    "key_id = cur.lastrowid"
   ]
  },
  {
   "cell_type": "code",
   "execution_count": 6,
   "id": "8389f1b1",
   "metadata": {},
   "outputs": [
    {
     "name": "stdout",
     "output_type": "stream",
     "text": [
      "(1, 638725490060911738, '', '', 'Manual')\n",
      "(2, 638725490218351248, '', '', 'Manual')\n",
      "(3, None, None, None, 'Automatic')\n"
     ]
    }
   ],
   "source": [
    "print_query(\"SELECT * FROM scoring_key\")"
   ]
  },
  {
   "cell_type": "code",
   "execution_count": 7,
   "id": "ea399c6f",
   "metadata": {},
   "outputs": [],
   "source": [
    "cur = conn.cursor()\n",
    "cur.execute(\"INSERT INTO scoring_revision (name, is_deleted, version) VALUES ('Gandalf', 0, 0);\")\n",
    "conn.commit()\n",
    "scoring_revision_id = cur.lastrowid"
   ]
  },
  {
   "cell_type": "code",
   "execution_count": 8,
   "id": "26574bbf",
   "metadata": {},
   "outputs": [
    {
     "name": "stdout",
     "output_type": "stream",
     "text": [
      "(1, 'LSTM', 0, '', 0, '', 638725490119334504)\n",
      "(2, 'LSTM', 0, '', 1, '', 638725490309286442)\n",
      "(3, 'Gandalf', 0, None, 0, None, None)\n"
     ]
    }
   ],
   "source": [
    "print_query(\"SELECT * FROM scoring_revision\")"
   ]
  },
  {
   "cell_type": "code",
   "execution_count": 9,
   "id": "803aa492",
   "metadata": {},
   "outputs": [
    {
     "name": "stdout",
     "output_type": "stream",
     "text": [
      "3 3\n"
     ]
    }
   ],
   "source": [
    "print(scoring_revision_id,key_id)"
   ]
  },
  {
   "cell_type": "code",
   "execution_count": 10,
   "id": "6d600796",
   "metadata": {},
   "outputs": [],
   "source": [
    "cur = conn.cursor()\n",
    "cur.execute(f\"INSERT INTO scoring_revision_to_key (revision_id, key_id) VALUES ({scoring_revision_id}, {key_id});\")\n",
    "conn.commit()"
   ]
  },
  {
   "cell_type": "code",
   "execution_count": 11,
   "id": "f9df93e9",
   "metadata": {},
   "outputs": [
    {
     "name": "stdout",
     "output_type": "stream",
     "text": [
      "(1, 1)\n",
      "(2, 1)\n",
      "(2, 2)\n",
      "(3, 3)\n"
     ]
    }
   ],
   "source": [
    "print_query(\"SELECT * FROM scoring_revision_to_key\")"
   ]
  },
  {
   "cell_type": "code",
   "execution_count": 12,
   "id": "d9dc4e06",
   "metadata": {},
   "outputs": [],
   "source": [
    "cur = conn.cursor()\n",
    "cur.execute(f\"DROP TABLE IF EXISTS internal_property;\")\n",
    "conn.commit()"
   ]
  },
  {
   "cell_type": "code",
   "execution_count": 13,
   "id": "3e36e749",
   "metadata": {},
   "outputs": [],
   "source": [
    "conn.close()"
   ]
  },
  {
   "cell_type": "code",
   "execution_count": null,
   "id": "dfc3c913",
   "metadata": {},
   "outputs": [],
   "source": [
    "first_epoch_start = 638585572600000000\n",
    "first_epoch_end = 638585572700000000\n",
    "first_epoch_start = int(int(recording_start * 1e-8) * 1e8) # decaseconds\n",
    "print(first_epoch_start)\n",
    "first_epoch_start + int(1e8)"
   ]
  }
 ],
 "metadata": {
  "kernelspec": {
   "display_name": "Python 3",
   "language": "python",
   "name": "python3"
  },
  "language_info": {
   "codemirror_mode": {
    "name": "ipython",
    "version": 3
   },
   "file_extension": ".py",
   "mimetype": "text/x-python",
   "name": "python",
   "nbconvert_exporter": "python",
   "pygments_lexer": "ipython3",
   "version": "3.12.9"
  }
 },
 "nbformat": 4,
 "nbformat_minor": 5
}
