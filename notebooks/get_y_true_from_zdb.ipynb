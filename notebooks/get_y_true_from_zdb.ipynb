{
 "cells": [
  {
   "cell_type": "code",
   "execution_count": 1,
   "id": "c21fe7b4",
   "metadata": {},
   "outputs": [
    {
     "name": "stdout",
     "output_type": "stream",
     "text": [
      "71.0 55.0 19.0 258919.0\n",
      "638585572620000000\n",
      "638588161810000000\n"
     ]
    }
   ],
   "source": [
    "import pandas as pd\n",
    "import os\n",
    "import torch\n",
    "import sqlite3\n",
    "from sqlite3 import Error\n",
    "\n",
    "zdb_path = f'data/EKyn Sleep and Sleep Dep 24-Jun PD35.24-Jun-A1.20240806200742.zdb'\n",
    "\n",
    "try:\n",
    "    conn = sqlite3.connect(zdb_path)\n",
    "except Error as e:\n",
    "    print(e)\n",
    "\n",
    "# get recording start stop\n",
    "cur = conn.cursor()\n",
    "query = \"SELECT value FROM internal_property WHERE key='RecordingStart'\"\n",
    "cur.execute(query)\n",
    "result = cur.fetchall()\n",
    "recording_start = int(result[0][0])\n",
    "query = \"SELECT value FROM internal_property WHERE key='RecordingStop'\"\n",
    "cur.execute(query)\n",
    "result = cur.fetchall()\n",
    "recording_stop = int(result[0][0])\n",
    "length_ns = recording_stop - recording_start # ns\n",
    "length_s = length_ns * 1e-7 # s\n",
    "hh = length_s // 3600\n",
    "mm = (length_s % 3600) // 60\n",
    "ss = ((length_s % 3600) % 60)\n",
    "print(hh,mm,ss,length_s)\n",
    "print(recording_start)\n",
    "print(recording_stop)"
   ]
  },
  {
   "cell_type": "code",
   "execution_count": 13,
   "id": "402684d0",
   "metadata": {},
   "outputs": [
    {
     "data": {
      "text/plain": [
       "25892"
      ]
     },
     "execution_count": 13,
     "metadata": {},
     "output_type": "execute_result"
    }
   ],
   "source": [
    "query = \"SELECT * FROM scoring_marker WHERE key_id=1\"\n",
    "cur.execute(query)\n",
    "result = cur.fetchall()\n",
    "state_mapping = {\n",
    "    'Sleep-Wake': 2,\n",
    "    'Sleep-SWS': 1,\n",
    "    'Sleep-Paradoxical': 0\n",
    "}\n",
    "mapped_result = [state_mapping[row[-4]] for row in result]  # Assuming the state is in the 4th-to-last column\n",
    "len(mapped_result)"
   ]
  },
  {
   "cell_type": "code",
   "execution_count": 19,
   "id": "cea0d5c6",
   "metadata": {},
   "outputs": [],
   "source": [
    "import pandas as pd\n",
    "df = pd.read_csv(f'data/EKyn Sleep and Sleep Dep 24-Jun PD35.24-Jun-A1.20240806200742_y_pred.csv')\n",
    "df['y_true'] = mapped_result"
   ]
  },
  {
   "cell_type": "code",
   "execution_count": 21,
   "id": "a680cebc",
   "metadata": {},
   "outputs": [
    {
     "name": "stdout",
     "output_type": "stream",
     "text": [
      "                   precision    recall  f1-score   support\n",
      "\n",
      "Sleep-Paradoxical       1.00      1.00      1.00      1176\n",
      "        Sleep-SWS       1.00      1.00      1.00      9539\n",
      "       Sleep-Wake       1.00      1.00      1.00     15177\n",
      "\n",
      "         accuracy                           1.00     25892\n",
      "        macro avg       1.00      1.00      1.00     25892\n",
      "     weighted avg       1.00      1.00      1.00     25892\n",
      "\n"
     ]
    }
   ],
   "source": [
    "from sklearn.metrics import classification_report\n",
    "y_true = df['y_true']\n",
    "y_pred = df['y_pred']\n",
    "target_names = ['Sleep-Paradoxical', 'Sleep-SWS', 'Sleep-Wake']\n",
    "print(classification_report(y_true, y_pred, target_names=target_names))"
   ]
  }
 ],
 "metadata": {
  "kernelspec": {
   "display_name": "Python 3",
   "language": "python",
   "name": "python3"
  },
  "language_info": {
   "codemirror_mode": {
    "name": "ipython",
    "version": 3
   },
   "file_extension": ".py",
   "mimetype": "text/x-python",
   "name": "python",
   "nbconvert_exporter": "python",
   "pygments_lexer": "ipython3",
   "version": "3.12.9"
  }
 },
 "nbformat": 4,
 "nbformat_minor": 5
}
