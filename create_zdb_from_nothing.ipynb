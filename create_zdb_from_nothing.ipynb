{
 "cells": [
  {
   "cell_type": "code",
   "execution_count": null,
   "id": "1502ca1a",
   "metadata": {},
   "outputs": [],
   "source": [
    "import pandas as pd\n",
    "import os\n",
    "import torch\n",
    "import sqlite3\n",
    "from sqlite3 import Error\n",
    "\n",
    "def show_tables(conn):\n",
    "    \"\"\" show all tables in the database \"\"\"\n",
    "    cur = conn.cursor()\n",
    "    query = \"SELECT name FROM sqlite_master WHERE type='table';\"\n",
    "    cur.execute(query)\n",
    "    result = cur.fetchall()\n",
    "    return [result[i][0] for i in range(len(result))]\n",
    "\n",
    "def drop_temporary_tables(conn):\n",
    "    \"\"\" drop temporary tables in the database \"\"\"\n",
    "    cur = conn.cursor()\n",
    "    temporary_table_names = [table for table in show_tables(conn) if 'temporary' in table]\n",
    "    for temporary_table_name in temporary_table_names:\n",
    "        cur.execute(f\"DROP TABLE IF EXISTS {temporary_table_name};\")\n",
    "    conn.commit()\n",
    "    \n",
    "def print_query(query):\n",
    "    cur = conn.cursor()\n",
    "    cur.execute(query)\n",
    "    result = cur.fetchall()\n",
    "    for row in result:\n",
    "        print(row)\n",
    "        \n",
    "zdb_path = f'EKyn Sleep and Sleep Dep 24-Jun PD35.24-Jun-A2.20240806200742.zdb'\n",
    "\n",
    "try:\n",
    "    conn = sqlite3.connect(zdb_path)\n",
    "except Error as e:\n",
    "    print(e)\n",
    "# TODO: to do this, we need to get start time from pnmlog or pnmexp\n",
    "# get recording start stop\n",
    "cur = conn.cursor()\n",
    "query = \"SELECT value FROM internal_property WHERE key='RecordingStart'\"\n",
    "cur.execute(query)\n",
    "result = cur.fetchall()\n",
    "recording_start = int(result[0][0])\n",
    "query = \"SELECT value FROM internal_property WHERE key='RecordingStop'\"\n",
    "cur.execute(query)\n",
    "result = cur.fetchall()\n",
    "recording_stop = int(result[0][0])\n",
    "length_ns = recording_stop - recording_start # ns\n",
    "length_s = length_ns * 1e-7 # s\n",
    "hh = length_s // 3600\n",
    "mm = (length_s % 3600) // 60\n",
    "ss = ((length_s % 3600) % 60)\n",
    "print(hh,mm,ss,length_s)\n",
    "print(recording_start)\n",
    "print(recording_stop)"
   ]
  },
  {
   "cell_type": "code",
   "execution_count": null,
   "id": "ad6062f5",
   "metadata": {},
   "outputs": [],
   "source": [
    "show_tables(conn)"
   ]
  },
  {
   "cell_type": "code",
   "execution_count": null,
   "id": "4722bb3d",
   "metadata": {},
   "outputs": [],
   "source": [
    "drop_temporary_tables(conn)"
   ]
  },
  {
   "cell_type": "code",
   "execution_count": null,
   "id": "ada8c0e8",
   "metadata": {},
   "outputs": [],
   "source": [
    "show_tables(conn)"
   ]
  },
  {
   "cell_type": "code",
   "execution_count": null,
   "id": "48f83759",
   "metadata": {},
   "outputs": [],
   "source": [
    "cur = conn.cursor()\n",
    "cur.execute(\"INSERT INTO scoring_key (type) VALUES ('Automatic');\")\n",
    "conn.commit()\n",
    "key_id = cur.lastrowid"
   ]
  },
  {
   "cell_type": "code",
   "execution_count": null,
   "id": "8389f1b1",
   "metadata": {},
   "outputs": [],
   "source": [
    "print_query(\"SELECT * FROM scoring_key\")"
   ]
  },
  {
   "cell_type": "code",
   "execution_count": null,
   "id": "ea399c6f",
   "metadata": {},
   "outputs": [],
   "source": [
    "cur = conn.cursor()\n",
    "cur.execute(\"INSERT INTO scoring_revision (name, is_deleted, version) VALUES ('Gandalf', 0, 0);\")\n",
    "conn.commit()\n",
    "scoring_revision_id = cur.lastrowid"
   ]
  },
  {
   "cell_type": "code",
   "execution_count": null,
   "id": "26574bbf",
   "metadata": {},
   "outputs": [],
   "source": [
    "print_query(\"SELECT * FROM scoring_revision\")"
   ]
  },
  {
   "cell_type": "code",
   "execution_count": null,
   "id": "803aa492",
   "metadata": {},
   "outputs": [],
   "source": [
    "print(scoring_revision_id,key_id)"
   ]
  },
  {
   "cell_type": "code",
   "execution_count": null,
   "id": "6d600796",
   "metadata": {},
   "outputs": [],
   "source": [
    "cur = conn.cursor()\n",
    "cur.execute(f\"INSERT INTO scoring_revision_to_key (revision_id, key_id) VALUES ({scoring_revision_id}, {key_id});\")\n",
    "conn.commit()"
   ]
  },
  {
   "cell_type": "code",
   "execution_count": null,
   "id": "f9df93e9",
   "metadata": {},
   "outputs": [],
   "source": [
    "print_query(\"SELECT * FROM scoring_revision_to_key\")"
   ]
  },
  {
   "cell_type": "code",
   "execution_count": null,
   "id": "d9dc4e06",
   "metadata": {},
   "outputs": [],
   "source": [
    "cur = conn.cursor()\n",
    "cur.execute(f\"DROP TABLE IF EXISTS internal_property;\")\n",
    "conn.commit()"
   ]
  },
  {
   "cell_type": "code",
   "execution_count": null,
   "id": "3e36e749",
   "metadata": {},
   "outputs": [],
   "source": [
    "conn.close()"
   ]
  },
  {
   "cell_type": "code",
   "execution_count": null,
   "id": "dfc3c913",
   "metadata": {},
   "outputs": [],
   "source": []
  }
 ],
 "metadata": {
  "kernelspec": {
   "display_name": "Python 3",
   "language": "python",
   "name": "python3"
  },
  "language_info": {
   "codemirror_mode": {
    "name": "ipython",
    "version": 3
   },
   "file_extension": ".py",
   "mimetype": "text/x-python",
   "name": "python",
   "nbconvert_exporter": "python",
   "pygments_lexer": "ipython3",
   "version": "3.12.9"
  }
 },
 "nbformat": 4,
 "nbformat_minor": 5
}
