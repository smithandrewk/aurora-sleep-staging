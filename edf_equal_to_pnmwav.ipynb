{
 "cells": [
  {
   "cell_type": "code",
   "execution_count": null,
   "id": "955cf084",
   "metadata": {},
   "outputs": [
    {
     "name": "stdout",
     "output_type": "stream",
     "text": [
      "0\n",
      "7/16/2021 5:27:25 PM\n",
      "7/16/2021 5:29:03 PM\n",
      "49050\n",
      "1\n",
      "7/16/2021 8:54:33 PM\n",
      "7/19/2021 11:13:09 AM\n",
      "100000\n"
     ]
    }
   ],
   "source": [
    "import os\n",
    "import clr\n",
    "\n",
    "sz_exp_path = \"/Users/andrew/neuroscore/KMO Mice Males Cohort 1\"\n",
    "# Update the path to the .dll files\n",
    "dll_folder = \"/Users/andrew/neuroscore\"  # Replace with the actual path to your .dll files\n",
    "extractor_dll = os.path.join(dll_folder, \"Ponemah6xExtractor.dll\")\n",
    "sqlite_dll_folder = \"/Users/andrew/neuroscore\"  # Replace with the actual path to SQLite.Interop.dll\n",
    "\n",
    "channel_id = 2\n",
    "num_samples_requested = 100000\n",
    "\n",
    "import clr\n",
    "from System import Array\n",
    "from System import DateTime\n",
    "\n",
    "from datetime import timedelta\n",
    "sample_rate = 500\n",
    "import clr\n",
    "import os\n",
    "\n",
    "def GetPnmWaveformData_Setup(sz_exp_path, channel_id, num_samples_requested):\n",
    "    # Initialize arrays\n",
    "    seg_start_times_utc = []\n",
    "    seg_end_times_utc = []\n",
    "    clr.AddReference(os.path.join(dll_folder, \"Ponemah.WaveformFile.dll\"))\n",
    "    clr.AddReference(os.path.join(dll_folder, 'Ponemah6xExtractor.dll'))\n",
    "\n",
    "    from Ponemah6xExtractor import Ponemah6XExtractor\n",
    "    from Ponemah.WaveformFile import WaveformDatasetReader\n",
    "\n",
    "    # Get Experiment database\n",
    "    sz_exp_name = os.path.basename(sz_exp_path)\n",
    "    sz_exp_database = os.path.join(sz_exp_path, f\"{sz_exp_name}.PnmExp\")\n",
    "\n",
    "    # Retrieve available channels\n",
    "    reader = WaveformDatasetReader()\n",
    "    reader.OpenDataset(sz_exp_path)\n",
    "    reader.ScanForAvailableData()\n",
    "    channel_ids = list(reader.GetChannelIds())\n",
    "\n",
    "    # Verify requested channelId is valid\n",
    "    if channel_id not in channel_ids:\n",
    "        raise ValueError(\"Invalid channel\")\n",
    "    \n",
    "    # Retrieve segments from the Waveform file\n",
    "    time_segments = reader.GetChannelTimeSegments(channel_id)\n",
    "\n",
    "    # Populate segment start and end times\n",
    "    for segment in time_segments:\n",
    "        seg_start_times_utc.append(segment.Start)\n",
    "        seg_end_times_utc.append(segment.End)\n",
    "        \n",
    "    # Allocate a float buffer for internal use\n",
    "    from System import Array, Single\n",
    "    sample_buffer = Array.CreateInstance(Single, num_samples_requested)\n",
    "    timezone = -1\n",
    "    return reader, timezone, seg_start_times_utc, seg_end_times_utc, sample_rate, sample_buffer\n",
    "\n",
    "def GetPnmWaveformDataUtc(reader, channel_id, start_time_utc, num_samples_requested, sample_buffer, sample_rate, seg_start_times_utc, seg_end_times_utc):\n",
    "    # Identify the data segment that contains the requested data\n",
    "    for idx in range(len(seg_start_times_utc)):\n",
    "        if start_time_utc < seg_start_times_utc[idx]:\n",
    "            start_time_utc = seg_start_times_utc[idx]\n",
    "            end_time_utc = seg_end_times_utc[idx]\n",
    "            break\n",
    "        if seg_start_times_utc[idx] <= start_time_utc <= seg_end_times_utc[idx]:\n",
    "            end_time_utc = seg_end_times_utc[idx]\n",
    "            break\n",
    "    else:\n",
    "        raise ValueError(\"No samples available\")\n",
    "\n",
    "    # Start from the first sample at or after the requested time\n",
    "    actual_start_time_utc = start_time_utc\n",
    "\n",
    "    # Adjust the number of samples based on available contiguous data\n",
    "    range_duration = end_time_utc - start_time_utc\n",
    "    available_samples = range_duration.Ticks * sample_rate / 10000000\n",
    "\n",
    "    if available_samples < num_samples_requested:\n",
    "        num_samples_requested = int(available_samples)\n",
    "\n",
    "    # Retrieve data\n",
    "    samples_returned = reader.GetSamples(channel_id, start_time_utc, sample_buffer, num_samples_requested)\n",
    "    print(samples_returned)\n",
    "    return actual_start_time_utc, samples_returned\n",
    "\n",
    "\n",
    "reader, timezone, seg_start_times_utc, seg_end_times_utc, sample_rate, sample_buffer = GetPnmWaveformData_Setup(\n",
    "    sz_exp_path, channel_id, num_samples_requested\n",
    ")\n",
    "\n",
    "for seg_idx in range(len(seg_start_times_utc)):\n",
    "    print(seg_idx)\n",
    "    current_utc = seg_start_times_utc[seg_idx]\n",
    "    seg_end_utc = seg_end_times_utc[seg_idx]\n",
    "    print(current_utc)\n",
    "    print(seg_end_utc)\n",
    "    actual_start_time_utc, samples_returned = GetPnmWaveformDataUtc(\n",
    "        reader, channel_id, current_utc, num_samples_requested, sample_buffer, sample_rate, seg_start_times_utc, seg_end_times_utc\n",
    "    )"
   ]
  },
  {
   "cell_type": "code",
   "execution_count": 26,
   "id": "b39790df",
   "metadata": {},
   "outputs": [
    {
     "data": {
      "text/plain": [
       "[<matplotlib.lines.Line2D at 0x141046870>]"
      ]
     },
     "execution_count": 26,
     "metadata": {},
     "output_type": "execute_result"
    },
    {
     "data": {
      "image/png": "[encoded data removed]",
      "text/plain": [
       "<Figure size 640x480 with 1 Axes>"
      ]
     },
     "metadata": {},
     "output_type": "display_data"
    }
   ],
   "source": [
    "import numpy as np\n",
    "import matplotlib.pyplot as plt\n",
    "X = np.array(sample_buffer)\n",
    "plt.plot(X)"
   ]
  },
  {
   "cell_type": "code",
   "execution_count": null,
   "id": "55717bfc",
   "metadata": {},
   "outputs": [],
   "source": [
    "\n",
    "\n",
    "\n",
    "\n",
    "\n",
    "# Verify requested channelId is valid\n",
    "if channel_id not in channel_ids:\n",
    "    raise ValueError(\"Invalid channel\")\n",
    "\n",
    "# Get Segments start and end times\n",
    "seg_start_times_utc, seg_end_times_utc = GetTimeSegmentsUtc(sz_exp_path, channel_id)\n",
    "ticks_per_sample = GetTicksPerSample(reader, channel_id, seg_start_times_utc[0])\n",
    "sample_rate = 10000000 / ticks_per_sample.Ticks  # Assumes constant sample rate\n",
    "\n",
    "# Allocate a float buffer for internal use\n",
    "from System import Array, Single\n",
    "sample_buffer = Array.CreateInstance(Single, num_samples_requested)\n",
    "\n",
    "return reader, timezone, seg_start_times_utc, seg_end_times_utc, sample_rate, sample_buffer"
   ]
  }
 ],
 "metadata": {
  "kernelspec": {
   "display_name": "Python 3",
   "language": "python",
   "name": "python3"
  },
  "language_info": {
   "codemirror_mode": {
    "name": "ipython",
    "version": 3
   },
   "file_extension": ".py",
   "mimetype": "text/x-python",
   "name": "python",
   "nbconvert_exporter": "python",
   "pygments_lexer": "ipython3",
   "version": "3.12.9"
  }
 },
 "nbformat": 4,
 "nbformat_minor": 5
}
