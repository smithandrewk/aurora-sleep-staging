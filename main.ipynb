{
 "cells": [
  {
   "cell_type": "code",
   "execution_count": 27,
   "id": "78dcfeee",
   "metadata": {},
   "outputs": [],
   "source": [
    "import pandas as pd\n",
    "import os\n",
    "import torch\n",
    "import sqlite3\n",
    "from sqlite3 import Error\n",
    "\n",
    "def show_tables(conn):\n",
    "    \"\"\" show all tables in the database \"\"\"\n",
    "    cur = conn.cursor()\n",
    "    query = \"SELECT name FROM sqlite_master WHERE type='table';\"\n",
    "    cur.execute(query)\n",
    "    result = cur.fetchall()\n",
    "    return [result[i][0] for i in range(len(result))]\n",
    "\n",
    "def drop_temporary_tables(conn):\n",
    "    \"\"\" drop temporary tables in the database \"\"\"\n",
    "    cur = conn.cursor()\n",
    "    temporary_table_names = [table for table in show_tables(conn) if 'temporary' in table]\n",
    "    for temporary_table_name in temporary_table_names:\n",
    "        cur.execute(f\"DROP TABLE IF EXISTS {temporary_table_name};\")\n",
    "    conn.commit()\n",
    "    \n",
    "def print_query(query,conn):\n",
    "    cur = conn.cursor()\n",
    "    cur.execute(query)\n",
    "    result = cur.fetchall()\n",
    "    for row in result:\n",
    "        print(row)\n",
    "\n",
    "def get_recording_start_stop(conn):\n",
    "    \"\"\"\n",
    "    author: Andrew Smith\n",
    "    date: 17 April 2025\n",
    "    description: Get recording start and stop times from the zdb database \n",
    "    table internal_property. The table internal_property gets created the \n",
    "    first time someone opens a\n",
    "    Ponemah experiment in NeuroScore. So, the recording start stop times are\n",
    "    somewhere in the Ponemah files.\n",
    "\n",
    "    future: get recording start stop directly from Ponemah files to try and\n",
    "    avoid zdb\n",
    "    \"\"\"\n",
    "    \"\"\" get recording start and stop times \"\"\"\n",
    "    cur = conn.cursor()\n",
    "    query = \"SELECT value FROM internal_property WHERE key='RecordingStart'\"\n",
    "    cur.execute(query)\n",
    "    result = cur.fetchall()\n",
    "    recording_start = int(result[0][0])\n",
    "    query = \"SELECT value FROM internal_property WHERE key='RecordingStop'\"\n",
    "    cur.execute(query)\n",
    "    result = cur.fetchall()\n",
    "    recording_stop = int(result[0][0])\n",
    "    return recording_start, recording_stop\n",
    "\n",
    "import torch\n",
    "import os\n",
    "import torch\n",
    "from torch import nn\n",
    "from torch.nn.functional import relu\n",
    "from mne.io import read_raw_edf\n",
    "from tqdm import tqdm\n",
    "from torch.utils.data import DataLoader\n",
    "import matplotlib.pyplot as plt\n",
    "import seaborn as sns\n",
    "import pandas as pd\n",
    "\n",
    "class ResidualBlock(nn.Module):\n",
    "    def __init__(self,in_feature_maps,out_feature_maps,n_features) -> None:\n",
    "        super().__init__()\n",
    "        self.c1 = nn.Conv1d(in_feature_maps,out_feature_maps,kernel_size=8,padding='same',bias=False)\n",
    "        self.bn1 = nn.LayerNorm((out_feature_maps,n_features),elementwise_affine=False)\n",
    "\n",
    "        self.c2 = nn.Conv1d(out_feature_maps,out_feature_maps,kernel_size=5,padding='same',bias=False)\n",
    "        self.bn2 = nn.LayerNorm((out_feature_maps,n_features),elementwise_affine=False)\n",
    "\n",
    "        self.c3 = nn.Conv1d(out_feature_maps,out_feature_maps,kernel_size=3,padding='same',bias=False)\n",
    "        self.bn3 = nn.LayerNorm((out_feature_maps,n_features),elementwise_affine=False)\n",
    "\n",
    "        self.c4 = nn.Conv1d(in_feature_maps,out_feature_maps,1,padding='same',bias=False)\n",
    "        self.bn4 = nn.LayerNorm((out_feature_maps,n_features),elementwise_affine=False)\n",
    "\n",
    "    def forward(self,x):\n",
    "        identity = x\n",
    "        x = self.c1(x)\n",
    "        x = self.bn1(x)\n",
    "        x = relu(x)\n",
    "\n",
    "        x = self.c2(x)\n",
    "        x = self.bn2(x)\n",
    "        x = relu(x)\n",
    "\n",
    "        x = self.c3(x)\n",
    "        x = self.bn3(x)\n",
    "        x = relu(x)\n",
    "\n",
    "        identity = self.c4(identity)\n",
    "        identity = self.bn4(identity)\n",
    "\n",
    "        x = x+identity\n",
    "        x = relu(x)\n",
    "        \n",
    "        return x\n",
    "    \n",
    "class Frodo(nn.Module):\n",
    "    def __init__(self,n_features) -> None:\n",
    "        super().__init__()\n",
    "        self.n_features = n_features\n",
    "        self.block1 = ResidualBlock(1,8,n_features)\n",
    "        self.block2 = ResidualBlock(8,16,n_features)\n",
    "        self.block3 = ResidualBlock(16,16,n_features)\n",
    "\n",
    "        self.gap = nn.AvgPool1d(kernel_size=n_features)\n",
    "        self.fc1 = nn.Linear(in_features=16,out_features=3)\n",
    "    def forward(self,x,classification=True):\n",
    "        x = x.view(-1,1,self.n_features)\n",
    "        x = self.block1(x)\n",
    "        x = self.block2(x)\n",
    "        x = self.block3(x)\n",
    "        x = self.gap(x)\n",
    "        if(classification):\n",
    "            x = self.fc1(x.squeeze())\n",
    "            return x\n",
    "        else:\n",
    "            return x.squeeze()\n",
    "        \n",
    "class Gandalf(nn.Module):\n",
    "    def __init__(self) -> None:\n",
    "        super().__init__()\n",
    "        self.encoder = Frodo(n_features=5000)\n",
    "        self.lstm = nn.LSTM(16,32,bidirectional=True)\n",
    "        self.fc1 = nn.Linear(64,3)\n",
    "    def forward(self,x_2d,classification=True):\n",
    "        x_2d = x_2d.view(-1,9,1,5000)\n",
    "        x = []\n",
    "        for t in range(x_2d.size(1)):\n",
    "            xi = self.encoder(x_2d[:,t,:,:],classification=False)\n",
    "            x.append(xi.unsqueeze(0))\n",
    "        x = torch.cat(x)\n",
    "        out,_ = self.lstm(x)\n",
    "        if(classification):\n",
    "            x = self.fc1(out[-1])\n",
    "        else:\n",
    "            x = out[-1]\n",
    "        return x\n",
    "    \n",
    "class EEGDataset(torch.utils.data.Dataset):\n",
    "    def __init__(self,X):\n",
    "        self.len = len(X)\n",
    "        self.X = torch.cat([torch.zeros(4,5000),X,torch.zeros(4,5000)])\n",
    "\n",
    "    def __len__(self):\n",
    "        return self.len\n",
    "\n",
    "    def __getitem__(self, idx):\n",
    "        return self.X[idx:idx+9].flatten()\n",
    "    \n",
    "def score_recording(edf_path,model_path,eeg_ch_name,device,zdb_path):\n",
    "    if not os.path.exists(model_path):\n",
    "        raise FileExistsError(model_path)\n",
    "\n",
    "    model = Gandalf()\n",
    "    model.load_state_dict(torch.load(model_path,map_location='cpu'))\n",
    "\n",
    "    raw = read_raw_edf(input_fname=edf_path)\n",
    "    data = raw.get_data(picks=eeg_ch_name)\n",
    "    eeg = torch.from_numpy(data[0]).float()\n",
    "    eeg = eeg.view(-1,5000)\n",
    "\n",
    "    model.eval()\n",
    "    model.to(device)\n",
    "\n",
    "    with torch.no_grad():\n",
    "        dataloader = DataLoader(EEGDataset(eeg),batch_size=32)\n",
    "        logits = torch.cat([model(Xi.to(device)).cpu() for Xi in tqdm(dataloader)])\n",
    "        y_pred = logits.softmax(dim=1).argmax(axis=1)\n",
    "\n",
    "    pd.DataFrame(y_pred,columns=['y_pred']).to_csv(f\"{zdb_path.replace('.zdb','.y_pred')}\",index=False)\n",
    "    # pd.DataFrame(logits).to_csv(f\"{edf_path.replace('.edf','.logits')}\",index=False)"
   ]
  },
  {
   "cell_type": "code",
   "execution_count": 36,
   "id": "b077de65",
   "metadata": {},
   "outputs": [
    {
     "name": "stdout",
     "output_type": "stream",
     "text": [
      "24-Jun PD49\n",
      "24-Jun PD42\n",
      "24-Jun PD28\n",
      "24-Jun PD35\n",
      "24-Jun PD56\n",
      "\u001b[1;36mdata\u001b[0m\n",
      "├── \u001b[1;36m24-Jun PD28\u001b[0m\n",
      "│   ├── \u001b[31mEKyn Sleep and Sleep Dep 24-Jun PD28.24-Jun-A1.20240730181711.zdb\u001b[0m\n",
      "│   ├── \u001b[31mEKyn Sleep and Sleep Dep 24-Jun PD28.24-Jun-A2.20240730181711.zdb\u001b[0m\n",
      "│   ├── \u001b[31mEKyn Sleep and Sleep Dep 24-Jun PD28.24-Jun-B1.20240730181711.zdb\u001b[0m\n",
      "│   ├── \u001b[31mEKyn Sleep and Sleep Dep 24-Jun PD28.24-Jun-B2.20240730181711.zdb\u001b[0m\n",
      "│   ├── \u001b[31mEKyn Sleep and Sleep Dep 24-Jun PD28.24-Jun-D1.20240730181711.zdb\u001b[0m\n",
      "│   └── \u001b[31mEKyn Sleep and Sleep Dep 24-Jun PD28.24-Jun-D2.20240730181711.zdb\u001b[0m\n",
      "├── \u001b[1;36m24-Jun PD35\u001b[0m\n",
      "│   ├── \u001b[31mEKyn Sleep and Sleep Dep 24-Jun PD35.24-Jun-A1.20240806200742.zdb\u001b[0m\n",
      "│   ├── \u001b[31mEKyn Sleep and Sleep Dep 24-Jun PD35.24-Jun-A2.20240806200742.zdb\u001b[0m\n",
      "│   ├── \u001b[31mEKyn Sleep and Sleep Dep 24-Jun PD35.24-Jun-B1.20240806200742.zdb\u001b[0m\n",
      "│   ├── \u001b[31mEKyn Sleep and Sleep Dep 24-Jun PD35.24-Jun-B2.20240806200742.zdb\u001b[0m\n",
      "│   ├── \u001b[31mEKyn Sleep and Sleep Dep 24-Jun PD35.24-Jun-D1.20240806200742.zdb\u001b[0m\n",
      "│   └── \u001b[31mEKyn Sleep and Sleep Dep 24-Jun PD35.24-Jun-D2.20240806200742.zdb\u001b[0m\n",
      "├── \u001b[1;36m24-Jun PD42\u001b[0m\n",
      "│   ├── \u001b[31mEKyn Sleep and Sleep Dep 24-June PD42.24-Jun-A1.20240813194518.zdb\u001b[0m\n",
      "│   ├── \u001b[31mEKyn Sleep and Sleep Dep 24-June PD42.24-Jun-A2.20240813194518.zdb\u001b[0m\n",
      "│   ├── \u001b[31mEKyn Sleep and Sleep Dep 24-June PD42.24-Jun-B1.20240813194518.zdb\u001b[0m\n",
      "│   ├── \u001b[31mEKyn Sleep and Sleep Dep 24-June PD42.24-Jun-B2.20240813194518.zdb\u001b[0m\n",
      "│   ├── \u001b[31mEKyn Sleep and Sleep Dep 24-June PD42.24-Jun-D1.20240813194518.zdb\u001b[0m\n",
      "│   └── \u001b[31mEKyn Sleep and Sleep Dep 24-June PD42.24-Jun-D2.20240813194518.zdb\u001b[0m\n",
      "├── \u001b[1;36m24-Jun PD49\u001b[0m\n",
      "│   ├── \u001b[31mEKyn Sleep and Sleep Dep 24-Jun PD49.24-Jun-A1.20240820203421.zdb\u001b[0m\n",
      "│   ├── \u001b[31mEKyn Sleep and Sleep Dep 24-Jun PD49.24-Jun-A2.20240820203421.zdb\u001b[0m\n",
      "│   ├── \u001b[31mEKyn Sleep and Sleep Dep 24-Jun PD49.24-Jun-B1.20240820203421.zdb\u001b[0m\n",
      "│   ├── \u001b[31mEKyn Sleep and Sleep Dep 24-Jun PD49.24-Jun-B2.20240820203421.zdb\u001b[0m\n",
      "│   ├── \u001b[31mEKyn Sleep and Sleep Dep 24-Jun PD49.24-Jun-D1.20240820203421.zdb\u001b[0m\n",
      "│   └── \u001b[31mEKyn Sleep and Sleep Dep 24-Jun PD49.24-Jun-D2.20240820203421.zdb\u001b[0m\n",
      "└── \u001b[1;36m24-Jun PD56\u001b[0m\n",
      "    ├── \u001b[31mEKyn Sleep and Sleep Dep 24-Jun PD56.24-Jun-A2.20240827201830.zdb\u001b[0m\n",
      "    ├── \u001b[31mEKyn Sleep and Sleep Dep 24-Jun PD56.24-Jun-B1.20240827201830.zdb\u001b[0m\n",
      "    ├── \u001b[31mEKyn Sleep and Sleep Dep 24-Jun PD56.24-Jun-B2.20240827201830.zdb\u001b[0m\n",
      "    ├── \u001b[31mEKyn Sleep and Sleep Dep 24-Jun PD56.24-Jun-D1.20240827201830.zdb\u001b[0m\n",
      "    └── \u001b[31mEKyn Sleep and Sleep Dep 24-Jun PD56.24-Jun-D2.20240827201830.zdb\u001b[0m\n",
      "\n",
      "6 directories, 29 files\n"
     ]
    },
    {
     "data": {
      "text/plain": [
       "0"
      ]
     },
     "execution_count": 36,
     "metadata": {},
     "output_type": "execute_result"
    }
   ],
   "source": [
    "os.system(f'rm -rf data')\n",
    "source_dir = './CourtneyEEGDataJan2025'\n",
    "target_dir = './data'\n",
    "os.system(f'mkdir {target_dir}')\n",
    "\n",
    "for experiment_dir in os.listdir(source_dir):\n",
    "    print(experiment_dir)\n",
    "    experiment_dir_path = os.path.join(source_dir,experiment_dir)\n",
    "    if not os.path.exists(experiment_dir_path):\n",
    "        continue\n",
    "    os.system(f'mkdir \\\"{target_dir}/{experiment_dir}\\\"')\n",
    "    os.system(f'cp \\\"{experiment_dir_path}/\\\"*.zdb \\\"{target_dir}/{experiment_dir}/\\\"')\n",
    "\n",
    "os.system(f'tree data')"
   ]
  },
  {
   "cell_type": "code",
   "execution_count": 37,
   "id": "87474ca4",
   "metadata": {},
   "outputs": [
    {
     "name": "stdout",
     "output_type": "stream",
     "text": [
      "Processing data/24-Jun PD49\n",
      "Processing EKyn Sleep and Sleep Dep 24-Jun PD49.24-Jun-A1.20240820203421\n",
      "24-Jun PD49\n",
      "EEG 1\n",
      "Extracting EDF parameters from /Users/andrew/neuroscore/CourtneyEEGDataJan2025/24-Jun PD49/EKyn Sleep and Sleep Dep 24-Jun PD49.24-Jun-A1.20240820203421.edf...\n",
      "EDF file detected\n",
      "Setting channel info structure...\n",
      "Creating raw.info structure...\n"
     ]
    },
    {
     "name": "stderr",
     "output_type": "stream",
     "text": [
      "100%|██████████| 492/492 [00:14<00:00, 33.05it/s]"
     ]
    },
    {
     "name": "stdout",
     "output_type": "stream",
     "text": [
      "Processing EKyn Sleep and Sleep Dep 24-Jun PD49.24-Jun-A2.20240820203421\n",
      "24-Jun PD49\n",
      "EEG 1\n",
      "Extracting EDF parameters from /Users/andrew/neuroscore/CourtneyEEGDataJan2025/24-Jun PD49/EKyn Sleep and Sleep Dep 24-Jun PD49.24-Jun-A2.20240820203421.edf...\n",
      "EDF file detected\n",
      "Setting channel info structure...\n",
      "Creating raw.info structure...\n"
     ]
    },
    {
     "name": "stderr",
     "output_type": "stream",
     "text": [
      "\n",
      "100%|██████████| 799/799 [00:23<00:00, 33.43it/s]"
     ]
    },
    {
     "name": "stdout",
     "output_type": "stream",
     "text": [
      "Processing EKyn Sleep and Sleep Dep 24-Jun PD49.24-Jun-B1.20240820203421\n",
      "24-Jun PD49\n",
      "EEG 2\n",
      "Extracting EDF parameters from /Users/andrew/neuroscore/CourtneyEEGDataJan2025/24-Jun PD49/EKyn Sleep and Sleep Dep 24-Jun PD49.24-Jun-B1.20240820203421.edf...\n",
      "EDF file detected\n",
      "Setting channel info structure...\n",
      "Creating raw.info structure...\n"
     ]
    },
    {
     "name": "stderr",
     "output_type": "stream",
     "text": [
      "\n",
      "100%|██████████| 799/799 [00:24<00:00, 32.61it/s]"
     ]
    },
    {
     "name": "stdout",
     "output_type": "stream",
     "text": [
      "Processing EKyn Sleep and Sleep Dep 24-Jun PD49.24-Jun-B2.20240820203421\n",
      "24-Jun PD49\n",
      "EEG 1\n",
      "Extracting EDF parameters from /Users/andrew/neuroscore/CourtneyEEGDataJan2025/24-Jun PD49/EKyn Sleep and Sleep Dep 24-Jun PD49.24-Jun-B2.20240820203421.edf...\n",
      "EDF file detected\n",
      "Setting channel info structure...\n",
      "Creating raw.info structure...\n"
     ]
    },
    {
     "name": "stderr",
     "output_type": "stream",
     "text": [
      "\n",
      "100%|██████████| 799/799 [00:24<00:00, 32.68it/s]\n"
     ]
    },
    {
     "name": "stdout",
     "output_type": "stream",
     "text": [
      "Processing EKyn Sleep and Sleep Dep 24-Jun PD49.24-Jun-D1.20240820203421\n",
      "24-Jun PD49\n",
      "EEG 1\n",
      "Extracting EDF parameters from /Users/andrew/neuroscore/CourtneyEEGDataJan2025/24-Jun PD49/EKyn Sleep and Sleep Dep 24-Jun PD49.24-Jun-D1.20240820203421.edf...\n",
      "EDF file detected\n",
      "Setting channel info structure...\n",
      "Creating raw.info structure...\n"
     ]
    },
    {
     "name": "stderr",
     "output_type": "stream",
     "text": [
      "100%|██████████| 799/799 [00:24<00:00, 32.77it/s]"
     ]
    },
    {
     "name": "stdout",
     "output_type": "stream",
     "text": [
      "Processing EKyn Sleep and Sleep Dep 24-Jun PD49.24-Jun-D2.20240820203421\n",
      "24-Jun PD49\n",
      "EEG 1\n",
      "Extracting EDF parameters from /Users/andrew/neuroscore/CourtneyEEGDataJan2025/24-Jun PD49/EKyn Sleep and Sleep Dep 24-Jun PD49.24-Jun-D2.20240820203421.edf...\n",
      "EDF file detected\n",
      "Setting channel info structure...\n",
      "Creating raw.info structure...\n"
     ]
    },
    {
     "name": "stderr",
     "output_type": "stream",
     "text": [
      "\n",
      "100%|██████████| 799/799 [00:24<00:00, 32.45it/s]"
     ]
    },
    {
     "name": "stdout",
     "output_type": "stream",
     "text": [
      "Processing data/24-Jun PD42\n",
      "Processing EKyn Sleep and Sleep Dep 24-June PD42.24-Jun-A1.20240813194518\n",
      "24-Jun PD42\n",
      "EEG 1\n",
      "Extracting EDF parameters from /Users/andrew/neuroscore/CourtneyEEGDataJan2025/24-Jun PD42/EKyn Sleep and Sleep Dep 24-June PD42.24-Jun-A1.20240813194518.edf...\n",
      "EDF file detected\n",
      "Setting channel info structure...\n",
      "Creating raw.info structure...\n"
     ]
    },
    {
     "name": "stderr",
     "output_type": "stream",
     "text": [
      "\n",
      "100%|██████████| 805/805 [00:24<00:00, 32.48it/s]"
     ]
    },
    {
     "name": "stdout",
     "output_type": "stream",
     "text": [
      "Processing EKyn Sleep and Sleep Dep 24-June PD42.24-Jun-A2.20240813194518\n",
      "24-Jun PD42\n",
      "EEG 1\n",
      "Extracting EDF parameters from /Users/andrew/neuroscore/CourtneyEEGDataJan2025/24-Jun PD42/EKyn Sleep and Sleep Dep 24-June PD42.24-Jun-A2.20240813194518.edf...\n",
      "EDF file detected\n",
      "Setting channel info structure...\n",
      "Creating raw.info structure...\n"
     ]
    },
    {
     "name": "stderr",
     "output_type": "stream",
     "text": [
      "\n",
      "100%|██████████| 805/805 [00:24<00:00, 32.95it/s]"
     ]
    },
    {
     "name": "stdout",
     "output_type": "stream",
     "text": [
      "Processing EKyn Sleep and Sleep Dep 24-June PD42.24-Jun-B1.20240813194518\n",
      "24-Jun PD42\n",
      "EEG 2\n",
      "Extracting EDF parameters from /Users/andrew/neuroscore/CourtneyEEGDataJan2025/24-Jun PD42/EKyn Sleep and Sleep Dep 24-June PD42.24-Jun-B1.20240813194518.edf...\n",
      "EDF file detected\n",
      "Setting channel info structure...\n",
      "Creating raw.info structure...\n"
     ]
    },
    {
     "name": "stderr",
     "output_type": "stream",
     "text": [
      "\n",
      "100%|██████████| 805/805 [00:24<00:00, 32.63it/s]"
     ]
    },
    {
     "name": "stdout",
     "output_type": "stream",
     "text": [
      "Processing EKyn Sleep and Sleep Dep 24-June PD42.24-Jun-B2.20240813194518\n",
      "24-Jun PD42\n",
      "EEG 1\n",
      "Extracting EDF parameters from /Users/andrew/neuroscore/CourtneyEEGDataJan2025/24-Jun PD42/EKyn Sleep and Sleep Dep 24-June PD42.24-Jun-B2.20240813194518.edf...\n",
      "EDF file detected\n",
      "Setting channel info structure...\n",
      "Creating raw.info structure...\n"
     ]
    },
    {
     "name": "stderr",
     "output_type": "stream",
     "text": [
      "\n",
      "100%|██████████| 805/805 [00:24<00:00, 33.12it/s]\n"
     ]
    },
    {
     "name": "stdout",
     "output_type": "stream",
     "text": [
      "Processing EKyn Sleep and Sleep Dep 24-June PD42.24-Jun-D1.20240813194518\n",
      "24-Jun PD42\n",
      "EEG 1\n",
      "Extracting EDF parameters from /Users/andrew/neuroscore/CourtneyEEGDataJan2025/24-Jun PD42/EKyn Sleep and Sleep Dep 24-June PD42.24-Jun-D1.20240813194518.edf...\n",
      "EDF file detected\n",
      "Setting channel info structure...\n",
      "Creating raw.info structure...\n"
     ]
    },
    {
     "name": "stderr",
     "output_type": "stream",
     "text": [
      "100%|██████████| 805/805 [00:24<00:00, 33.31it/s]\n"
     ]
    },
    {
     "name": "stdout",
     "output_type": "stream",
     "text": [
      "Processing EKyn Sleep and Sleep Dep 24-June PD42.24-Jun-D2.20240813194518\n",
      "24-Jun PD42\n",
      "EEG 1\n",
      "Extracting EDF parameters from /Users/andrew/neuroscore/CourtneyEEGDataJan2025/24-Jun PD42/EKyn Sleep and Sleep Dep 24-June PD42.24-Jun-D2.20240813194518.edf...\n",
      "EDF file detected\n",
      "Setting channel info structure...\n",
      "Creating raw.info structure...\n"
     ]
    },
    {
     "name": "stderr",
     "output_type": "stream",
     "text": [
      "100%|██████████| 805/805 [00:24<00:00, 33.08it/s]\n"
     ]
    },
    {
     "name": "stdout",
     "output_type": "stream",
     "text": [
      "Processing data/24-Jun PD28\n",
      "Processing EKyn Sleep and Sleep Dep 24-Jun PD28.24-Jun-A1.20240730181711\n",
      "24-Jun PD28\n",
      "EEG 1\n",
      "Extracting EDF parameters from /Users/andrew/neuroscore/CourtneyEEGDataJan2025/24-Jun PD28/EKyn Sleep and Sleep Dep 24-Jun PD28.24-Jun-A1.20240730181711.edf...\n",
      "EDF file detected\n",
      "Setting channel info structure...\n",
      "Creating raw.info structure...\n"
     ]
    },
    {
     "name": "stderr",
     "output_type": "stream",
     "text": [
      "100%|██████████| 827/827 [00:25<00:00, 32.79it/s]\n"
     ]
    },
    {
     "name": "stdout",
     "output_type": "stream",
     "text": [
      "Processing EKyn Sleep and Sleep Dep 24-Jun PD28.24-Jun-A2.20240730181711\n",
      "24-Jun PD28\n",
      "EEG 1\n",
      "Extracting EDF parameters from /Users/andrew/neuroscore/CourtneyEEGDataJan2025/24-Jun PD28/EKyn Sleep and Sleep Dep 24-Jun PD28.24-Jun-A2.20240730181711.edf...\n",
      "EDF file detected\n",
      "Setting channel info structure...\n",
      "Creating raw.info structure...\n"
     ]
    },
    {
     "name": "stderr",
     "output_type": "stream",
     "text": [
      "100%|██████████| 827/827 [00:24<00:00, 33.08it/s]"
     ]
    },
    {
     "name": "stdout",
     "output_type": "stream",
     "text": [
      "Processing EKyn Sleep and Sleep Dep 24-Jun PD28.24-Jun-B1.20240730181711\n",
      "24-Jun PD28\n",
      "EEG 2\n",
      "Extracting EDF parameters from /Users/andrew/neuroscore/CourtneyEEGDataJan2025/24-Jun PD28/EKyn Sleep and Sleep Dep 24-Jun PD28.24-Jun-B1.20240730181711.edf...\n",
      "EDF file detected\n",
      "Setting channel info structure...\n",
      "Creating raw.info structure...\n"
     ]
    },
    {
     "name": "stderr",
     "output_type": "stream",
     "text": [
      "\n",
      "100%|██████████| 827/827 [00:25<00:00, 33.00it/s]"
     ]
    },
    {
     "name": "stdout",
     "output_type": "stream",
     "text": [
      "Processing EKyn Sleep and Sleep Dep 24-Jun PD28.24-Jun-B2.20240730181711\n",
      "24-Jun PD28\n",
      "EEG 1\n",
      "Extracting EDF parameters from /Users/andrew/neuroscore/CourtneyEEGDataJan2025/24-Jun PD28/EKyn Sleep and Sleep Dep 24-Jun PD28.24-Jun-B2.20240730181711.edf...\n",
      "EDF file detected\n",
      "Setting channel info structure...\n",
      "Creating raw.info structure...\n"
     ]
    },
    {
     "name": "stderr",
     "output_type": "stream",
     "text": [
      "\n",
      "100%|██████████| 827/827 [00:24<00:00, 33.16it/s]"
     ]
    },
    {
     "name": "stdout",
     "output_type": "stream",
     "text": [
      "Processing EKyn Sleep and Sleep Dep 24-Jun PD28.24-Jun-D1.20240730181711\n",
      "24-Jun PD28\n",
      "EEG 1\n",
      "Extracting EDF parameters from /Users/andrew/neuroscore/CourtneyEEGDataJan2025/24-Jun PD28/EKyn Sleep and Sleep Dep 24-Jun PD28.24-Jun-D1.20240730181711.edf...\n",
      "EDF file detected\n",
      "Setting channel info structure...\n",
      "Creating raw.info structure...\n"
     ]
    },
    {
     "name": "stderr",
     "output_type": "stream",
     "text": [
      "\n",
      "100%|██████████| 827/827 [00:25<00:00, 32.85it/s]"
     ]
    },
    {
     "name": "stdout",
     "output_type": "stream",
     "text": [
      "Processing EKyn Sleep and Sleep Dep 24-Jun PD28.24-Jun-D2.20240730181711\n",
      "24-Jun PD28\n",
      "EEG 1\n",
      "Extracting EDF parameters from /Users/andrew/neuroscore/CourtneyEEGDataJan2025/24-Jun PD28/EKyn Sleep and Sleep Dep 24-Jun PD28.24-Jun-D2.20240730181711.edf...\n",
      "EDF file detected\n",
      "Setting channel info structure...\n",
      "Creating raw.info structure...\n"
     ]
    },
    {
     "name": "stderr",
     "output_type": "stream",
     "text": [
      "\n",
      "100%|██████████| 827/827 [00:24<00:00, 33.19it/s]"
     ]
    },
    {
     "name": "stdout",
     "output_type": "stream",
     "text": [
      "Processing data/24-Jun PD35\n",
      "Processing EKyn Sleep and Sleep Dep 24-Jun PD35.24-Jun-A1.20240806200742\n",
      "24-Jun PD35\n",
      "EEG 1\n",
      "Extracting EDF parameters from /Users/andrew/neuroscore/CourtneyEEGDataJan2025/24-Jun PD35/EKyn Sleep and Sleep Dep 24-Jun PD35.24-Jun-A1.20240806200742.edf...\n",
      "EDF file detected\n",
      "Setting channel info structure...\n",
      "Creating raw.info structure...\n"
     ]
    },
    {
     "name": "stderr",
     "output_type": "stream",
     "text": [
      "\n",
      "100%|██████████| 810/810 [00:24<00:00, 33.19it/s]"
     ]
    },
    {
     "name": "stdout",
     "output_type": "stream",
     "text": [
      "Processing EKyn Sleep and Sleep Dep 24-Jun PD35.24-Jun-A2.20240806200742\n",
      "24-Jun PD35\n",
      "EEG 1\n",
      "Extracting EDF parameters from /Users/andrew/neuroscore/CourtneyEEGDataJan2025/24-Jun PD35/EKyn Sleep and Sleep Dep 24-Jun PD35.24-Jun-A2.20240806200742.edf...\n",
      "EDF file detected\n",
      "Setting channel info structure...\n",
      "Creating raw.info structure...\n"
     ]
    },
    {
     "name": "stderr",
     "output_type": "stream",
     "text": [
      "\n",
      "100%|██████████| 810/810 [00:24<00:00, 33.23it/s]"
     ]
    },
    {
     "name": "stdout",
     "output_type": "stream",
     "text": [
      "Processing EKyn Sleep and Sleep Dep 24-Jun PD35.24-Jun-B1.20240806200742\n",
      "24-Jun PD35\n",
      "EEG 2\n",
      "Extracting EDF parameters from /Users/andrew/neuroscore/CourtneyEEGDataJan2025/24-Jun PD35/EKyn Sleep and Sleep Dep 24-Jun PD35.24-Jun-B1.20240806200742.edf...\n",
      "EDF file detected\n",
      "Setting channel info structure...\n",
      "Creating raw.info structure...\n"
     ]
    },
    {
     "name": "stderr",
     "output_type": "stream",
     "text": [
      "\n",
      "100%|██████████| 810/810 [00:24<00:00, 33.31it/s]"
     ]
    },
    {
     "name": "stdout",
     "output_type": "stream",
     "text": [
      "Processing EKyn Sleep and Sleep Dep 24-Jun PD35.24-Jun-B2.20240806200742\n",
      "24-Jun PD35\n",
      "EEG 1\n",
      "Extracting EDF parameters from /Users/andrew/neuroscore/CourtneyEEGDataJan2025/24-Jun PD35/EKyn Sleep and Sleep Dep 24-Jun PD35.24-Jun-B2.20240806200742.edf...\n",
      "EDF file detected\n",
      "Setting channel info structure...\n",
      "Creating raw.info structure...\n"
     ]
    },
    {
     "name": "stderr",
     "output_type": "stream",
     "text": [
      "\n",
      "100%|██████████| 810/810 [00:24<00:00, 33.32it/s]"
     ]
    },
    {
     "name": "stdout",
     "output_type": "stream",
     "text": [
      "Processing EKyn Sleep and Sleep Dep 24-Jun PD35.24-Jun-D1.20240806200742\n",
      "24-Jun PD35\n",
      "EEG 1\n",
      "Extracting EDF parameters from /Users/andrew/neuroscore/CourtneyEEGDataJan2025/24-Jun PD35/EKyn Sleep and Sleep Dep 24-Jun PD35.24-Jun-D1.20240806200742.edf...\n",
      "EDF file detected\n",
      "Setting channel info structure...\n",
      "Creating raw.info structure...\n"
     ]
    },
    {
     "name": "stderr",
     "output_type": "stream",
     "text": [
      "\n",
      "100%|██████████| 810/810 [00:24<00:00, 33.24it/s]\n"
     ]
    },
    {
     "name": "stdout",
     "output_type": "stream",
     "text": [
      "Processing EKyn Sleep and Sleep Dep 24-Jun PD35.24-Jun-D2.20240806200742\n",
      "24-Jun PD35\n",
      "EEG 1\n",
      "Extracting EDF parameters from /Users/andrew/neuroscore/CourtneyEEGDataJan2025/24-Jun PD35/EKyn Sleep and Sleep Dep 24-Jun PD35.24-Jun-D2.20240806200742.edf...\n",
      "EDF file detected\n",
      "Setting channel info structure...\n",
      "Creating raw.info structure...\n"
     ]
    },
    {
     "name": "stderr",
     "output_type": "stream",
     "text": [
      "100%|██████████| 810/810 [00:24<00:00, 33.32it/s]"
     ]
    },
    {
     "name": "stdout",
     "output_type": "stream",
     "text": [
      "Processing data/24-Jun PD56\n",
      "Processing EKyn Sleep and Sleep Dep 24-Jun PD56.24-Jun-A2.20240827201830\n",
      "24-Jun PD56\n",
      "EEG 1\n",
      "Extracting EDF parameters from /Users/andrew/neuroscore/CourtneyEEGDataJan2025/24-Jun PD56/EKyn Sleep and Sleep Dep 24-Jun PD56.24-Jun-A2.20240827201830.edf...\n",
      "EDF file detected\n",
      "Setting channel info structure...\n",
      "Creating raw.info structure...\n"
     ]
    },
    {
     "name": "stderr",
     "output_type": "stream",
     "text": [
      "\n",
      "100%|██████████| 459/459 [00:13<00:00, 33.09it/s]"
     ]
    },
    {
     "name": "stdout",
     "output_type": "stream",
     "text": [
      "Processing EKyn Sleep and Sleep Dep 24-Jun PD56.24-Jun-B1.20240827201830\n",
      "24-Jun PD56\n",
      "EEG 2\n",
      "Extracting EDF parameters from /Users/andrew/neuroscore/CourtneyEEGDataJan2025/24-Jun PD56/EKyn Sleep and Sleep Dep 24-Jun PD56.24-Jun-B1.20240827201830.edf...\n",
      "EDF file detected\n",
      "Setting channel info structure...\n",
      "Creating raw.info structure...\n"
     ]
    },
    {
     "name": "stderr",
     "output_type": "stream",
     "text": [
      "\n",
      "100%|██████████| 798/798 [00:24<00:00, 32.20it/s]"
     ]
    },
    {
     "name": "stdout",
     "output_type": "stream",
     "text": [
      "Processing EKyn Sleep and Sleep Dep 24-Jun PD56.24-Jun-B2.20240827201830\n",
      "24-Jun PD56\n",
      "EEG 1\n",
      "Extracting EDF parameters from /Users/andrew/neuroscore/CourtneyEEGDataJan2025/24-Jun PD56/EKyn Sleep and Sleep Dep 24-Jun PD56.24-Jun-B2.20240827201830.edf...\n",
      "EDF file detected\n",
      "Setting channel info structure...\n",
      "Creating raw.info structure...\n"
     ]
    },
    {
     "name": "stderr",
     "output_type": "stream",
     "text": [
      "\n",
      "100%|██████████| 798/798 [00:24<00:00, 33.07it/s]"
     ]
    },
    {
     "name": "stdout",
     "output_type": "stream",
     "text": [
      "Processing EKyn Sleep and Sleep Dep 24-Jun PD56.24-Jun-D1.20240827201830\n",
      "24-Jun PD56\n",
      "EEG 1\n",
      "Extracting EDF parameters from /Users/andrew/neuroscore/CourtneyEEGDataJan2025/24-Jun PD56/EKyn Sleep and Sleep Dep 24-Jun PD56.24-Jun-D1.20240827201830.edf...\n",
      "EDF file detected\n",
      "Setting channel info structure...\n",
      "Creating raw.info structure...\n"
     ]
    },
    {
     "name": "stderr",
     "output_type": "stream",
     "text": [
      "\n",
      "100%|██████████| 798/798 [00:23<00:00, 33.43it/s]"
     ]
    },
    {
     "name": "stdout",
     "output_type": "stream",
     "text": [
      "Processing EKyn Sleep and Sleep Dep 24-Jun PD56.24-Jun-D2.20240827201830\n",
      "24-Jun PD56\n",
      "EEG 1\n",
      "Extracting EDF parameters from /Users/andrew/neuroscore/CourtneyEEGDataJan2025/24-Jun PD56/EKyn Sleep and Sleep Dep 24-Jun PD56.24-Jun-D2.20240827201830.edf...\n",
      "EDF file detected\n",
      "Setting channel info structure...\n",
      "Creating raw.info structure...\n"
     ]
    },
    {
     "name": "stderr",
     "output_type": "stream",
     "text": [
      "\n",
      "100%|██████████| 798/798 [00:23<00:00, 33.42it/s]\n"
     ]
    }
   ],
   "source": [
    "\"\"\"\n",
    "Sleep Staging Pipeline\n",
    "\"\"\"\n",
    "\n",
    "\"\"\"\n",
    "Step 1: \n",
    "    cd aurora-sleep-staging\n",
    "    mkdir data\n",
    "\n",
    "Place each *experiment* directory in bkp AND data, we only work from data.\n",
    "\n",
    "Always have a backup. No need to automate this. Just make it easy enough to start over.\n",
    "\"\"\"\n",
    "\n",
    "\n",
    "experiments_dir = f'data'\n",
    "source_dir = f'./CourtneyEEGDataJan2025'\n",
    "experiments = os.listdir(experiments_dir)\n",
    "model_path = 'aurora-sleep-staging/gandalf.pt'\n",
    "eeg_ch_name = \"EEG 1\"\n",
    "device = 'mps'\n",
    "\n",
    "for experiment in experiments:\n",
    "    experiment_dir = os.path.join(experiments_dir, experiment)\n",
    "    if not os.path.isdir(experiment_dir):\n",
    "        continue\n",
    "    print(f'Processing {experiment_dir}')\n",
    "    recording_ids = sorted([file.replace('.zdb','') for file in os.listdir(experiment_dir) if file.endswith('.zdb')])\n",
    "    for recording_id in recording_ids:\n",
    "        zdb_path = os.path.join(experiment_dir, recording_id + '.zdb')\n",
    "        edf_path = f'{source_dir}/{experiment}/{recording_id}.edf'\n",
    "        if not os.path.exists(zdb_path):\n",
    "            print(f'{zdb_path} does not exist')\n",
    "            continue\n",
    "        if not os.path.exists(edf_path):\n",
    "            print(f'{edf_path} does not exist')\n",
    "            continue\n",
    "        print(f'Processing {recording_id}')\n",
    "        print(experiment)\n",
    "        if \"24-Jun-B1\" in recording_id:\n",
    "            eeg_ch_name = 'EEG 2'\n",
    "        else:\n",
    "            eeg_ch_name = 'EEG 1'\n",
    "        print(eeg_ch_name)\n",
    "        score_recording(edf_path=edf_path,model_path=model_path,eeg_ch_name=eeg_ch_name,device=device,zdb_path=zdb_path)"
   ]
  },
  {
   "cell_type": "code",
   "execution_count": 38,
   "id": "42fa097c",
   "metadata": {},
   "outputs": [
    {
     "name": "stdout",
     "output_type": "stream",
     "text": [
      "Processing data/24-Jun PD49\n",
      "Processing EKyn Sleep and Sleep Dep 24-Jun PD49.24-Jun-A1.20240820203421\n",
      "duration: 43.0 hours 40.0 minutes 7.0 seconds\n",
      "duration seconds: 157207.0\n",
      "recording start: 638597684610000000\n",
      "recording stop: 638599256680000000\n",
      "['internal_property', 'logging_log_entry', 'scoring_key', 'scoring_marker', 'scoring_revision', 'scoring_revision_to_key', 'scoring_revision_to_comment', 'scoring_comment', 'workspace_workspace', 'temporary_scoring_group', 'temporary_scoring_group_to_key', 'temporary_scoring_group_to_comment', 'temporary_scoring_key', 'temporary_scoring_comment']\n",
      "Processing EKyn Sleep and Sleep Dep 24-Jun PD49.24-Jun-A2.20240820203421\n",
      "duration: 70.0 hours 57.0 minutes 42.0 seconds\n",
      "duration seconds: 255462.0\n",
      "recording start: 638597684610000000\n",
      "recording stop: 638600239230000000\n",
      "['internal_property', 'logging_log_entry', 'scoring_key', 'scoring_marker', 'scoring_revision', 'scoring_revision_to_key', 'scoring_revision_to_comment', 'scoring_comment', 'workspace_workspace', 'temporary_scoring_group', 'temporary_scoring_group_to_key', 'temporary_scoring_group_to_comment', 'temporary_scoring_key', 'temporary_scoring_comment']\n",
      "Processing EKyn Sleep and Sleep Dep 24-Jun PD49.24-Jun-B1.20240820203421\n",
      "duration: 70.0 hours 57.0 minutes 42.0 seconds\n",
      "duration seconds: 255462.0\n",
      "recording start: 638597684610000000\n",
      "recording stop: 638600239230000000\n",
      "['internal_property', 'logging_log_entry', 'scoring_key', 'scoring_marker', 'scoring_revision', 'scoring_revision_to_key', 'scoring_revision_to_comment', 'scoring_comment', 'workspace_workspace', 'temporary_scoring_group', 'temporary_scoring_group_to_key', 'temporary_scoring_group_to_comment', 'temporary_scoring_key', 'temporary_scoring_comment']\n",
      "Processing EKyn Sleep and Sleep Dep 24-Jun PD49.24-Jun-B2.20240820203421\n",
      "duration: 70.0 hours 57.0 minutes 42.0 seconds\n",
      "duration seconds: 255462.0\n",
      "recording start: 638597684610000000\n",
      "recording stop: 638600239230000000\n",
      "['internal_property', 'logging_log_entry', 'scoring_key', 'scoring_marker', 'scoring_revision', 'scoring_revision_to_key', 'scoring_revision_to_comment', 'scoring_comment', 'workspace_workspace', 'temporary_scoring_group', 'temporary_scoring_group_to_key', 'temporary_scoring_group_to_comment', 'temporary_scoring_key', 'temporary_scoring_comment']\n",
      "Processing EKyn Sleep and Sleep Dep 24-Jun PD49.24-Jun-D1.20240820203421\n",
      "duration: 70.0 hours 57.0 minutes 42.0 seconds\n",
      "duration seconds: 255462.0\n",
      "recording start: 638597684610000000\n",
      "recording stop: 638600239230000000\n",
      "['internal_property', 'logging_log_entry', 'scoring_key', 'scoring_marker', 'scoring_revision', 'scoring_revision_to_key', 'scoring_revision_to_comment', 'scoring_comment', 'workspace_workspace', 'temporary_scoring_group', 'temporary_scoring_group_to_key', 'temporary_scoring_group_to_comment', 'temporary_scoring_key', 'temporary_scoring_comment']\n",
      "Processing EKyn Sleep and Sleep Dep 24-Jun PD49.24-Jun-D2.20240820203421\n",
      "duration: 70.0 hours 57.0 minutes 42.0 seconds\n",
      "duration seconds: 255462.0\n",
      "recording start: 638597684610000000\n",
      "recording stop: 638600239230000000\n",
      "['internal_property', 'logging_log_entry', 'scoring_key', 'scoring_marker', 'scoring_revision', 'scoring_revision_to_key', 'scoring_revision_to_comment', 'scoring_comment', 'workspace_workspace', 'temporary_scoring_group', 'temporary_scoring_group_to_key', 'temporary_scoring_group_to_comment', 'temporary_scoring_key', 'temporary_scoring_comment']\n",
      "Processing data/24-Jun PD42\n",
      "Processing EKyn Sleep and Sleep Dep 24-June PD42.24-Jun-A1.20240813194518\n",
      "duration: 71.0 hours 31.0 minutes 11.0 seconds\n",
      "duration seconds: 257471.0\n",
      "recording start: 638591607180000000\n",
      "recording stop: 638594181890000000\n",
      "['internal_property', 'logging_log_entry', 'scoring_key', 'scoring_marker', 'scoring_revision', 'scoring_revision_to_key', 'scoring_revision_to_comment', 'scoring_comment', 'workspace_workspace', 'temporary_scoring_group', 'temporary_scoring_group_to_key', 'temporary_scoring_group_to_comment', 'temporary_scoring_key', 'temporary_scoring_comment']\n",
      "Processing EKyn Sleep and Sleep Dep 24-June PD42.24-Jun-A2.20240813194518\n",
      "duration: 71.0 hours 31.0 minutes 11.0 seconds\n",
      "duration seconds: 257471.0\n",
      "recording start: 638591607180000000\n",
      "recording stop: 638594181890000000\n",
      "['internal_property', 'logging_log_entry', 'scoring_key', 'scoring_marker', 'scoring_revision', 'scoring_revision_to_key', 'scoring_revision_to_comment', 'scoring_comment', 'workspace_workspace', 'temporary_scoring_group', 'temporary_scoring_group_to_key', 'temporary_scoring_group_to_comment', 'temporary_scoring_key', 'temporary_scoring_comment']\n",
      "Processing EKyn Sleep and Sleep Dep 24-June PD42.24-Jun-B1.20240813194518\n",
      "duration: 71.0 hours 31.0 minutes 11.0 seconds\n",
      "duration seconds: 257471.0\n",
      "recording start: 638591607180000000\n",
      "recording stop: 638594181890000000\n",
      "['internal_property', 'logging_log_entry', 'scoring_key', 'scoring_marker', 'scoring_revision', 'scoring_revision_to_key', 'scoring_revision_to_comment', 'scoring_comment', 'workspace_workspace', 'temporary_scoring_group', 'temporary_scoring_group_to_key', 'temporary_scoring_group_to_comment', 'temporary_scoring_key', 'temporary_scoring_comment']\n",
      "Processing EKyn Sleep and Sleep Dep 24-June PD42.24-Jun-B2.20240813194518\n",
      "duration: 71.0 hours 31.0 minutes 11.0 seconds\n",
      "duration seconds: 257471.0\n",
      "recording start: 638591607180000000\n",
      "recording stop: 638594181890000000\n",
      "['internal_property', 'logging_log_entry', 'scoring_key', 'scoring_marker', 'scoring_revision', 'scoring_revision_to_key', 'scoring_revision_to_comment', 'scoring_comment', 'workspace_workspace', 'temporary_scoring_group', 'temporary_scoring_group_to_key', 'temporary_scoring_group_to_comment', 'temporary_scoring_key', 'temporary_scoring_comment']\n",
      "Processing EKyn Sleep and Sleep Dep 24-June PD42.24-Jun-D1.20240813194518\n",
      "duration: 71.0 hours 31.0 minutes 11.0 seconds\n",
      "duration seconds: 257471.0\n",
      "recording start: 638591607180000000\n",
      "recording stop: 638594181890000000\n",
      "['internal_property', 'logging_log_entry', 'scoring_key', 'scoring_marker', 'scoring_revision', 'scoring_revision_to_key', 'scoring_revision_to_comment', 'scoring_comment', 'workspace_workspace', 'temporary_scoring_group', 'temporary_scoring_group_to_key', 'temporary_scoring_group_to_comment', 'temporary_scoring_key', 'temporary_scoring_comment']\n",
      "Processing EKyn Sleep and Sleep Dep 24-June PD42.24-Jun-D2.20240813194518\n",
      "duration: 71.0 hours 31.0 minutes 11.0 seconds\n",
      "duration seconds: 257471.0\n",
      "recording start: 638591607180000000\n",
      "recording stop: 638594181890000000\n",
      "['internal_property', 'logging_log_entry', 'scoring_key', 'scoring_marker', 'scoring_revision', 'scoring_revision_to_key', 'scoring_revision_to_comment', 'scoring_comment', 'workspace_workspace', 'temporary_scoring_group', 'temporary_scoring_group_to_key', 'temporary_scoring_group_to_comment', 'temporary_scoring_key', 'temporary_scoring_comment']\n",
      "Processing data/24-Jun PD28\n",
      "Processing EKyn Sleep and Sleep Dep 24-Jun PD28.24-Jun-A1.20240730181711\n",
      "duration: 73.0 hours 28.0 minutes 16.0 seconds\n",
      "duration seconds: 264496.0\n",
      "recording start: 638579458310000000\n",
      "recording stop: 638582103270000000\n",
      "['internal_property', 'logging_log_entry', 'scoring_revision', 'scoring_revision_to_key', 'scoring_revision_to_comment', 'scoring_key', 'scoring_comment', 'scoring_marker', 'workspace_workspace', 'temporary_scoring_group', 'temporary_scoring_group_to_key', 'temporary_scoring_group_to_comment', 'temporary_scoring_key', 'temporary_scoring_comment']\n",
      "Processing EKyn Sleep and Sleep Dep 24-Jun PD28.24-Jun-A2.20240730181711\n",
      "duration: 73.0 hours 28.0 minutes 16.0 seconds\n",
      "duration seconds: 264496.0\n",
      "recording start: 638579458310000000\n",
      "recording stop: 638582103270000000\n",
      "['internal_property', 'logging_log_entry', 'scoring_key', 'scoring_marker', 'scoring_revision', 'scoring_revision_to_key', 'scoring_revision_to_comment', 'scoring_comment', 'workspace_workspace', 'temporary_scoring_group', 'temporary_scoring_group_to_key', 'temporary_scoring_group_to_comment', 'temporary_scoring_key', 'temporary_scoring_comment']\n",
      "Processing EKyn Sleep and Sleep Dep 24-Jun PD28.24-Jun-B1.20240730181711\n",
      "duration: 73.0 hours 28.0 minutes 16.0 seconds\n",
      "duration seconds: 264496.0\n",
      "recording start: 638579458310000000\n",
      "recording stop: 638582103270000000\n",
      "['internal_property', 'logging_log_entry', 'scoring_key', 'scoring_marker', 'scoring_revision', 'scoring_revision_to_key', 'scoring_revision_to_comment', 'scoring_comment', 'workspace_workspace', 'temporary_scoring_group', 'temporary_scoring_group_to_key', 'temporary_scoring_group_to_comment', 'temporary_scoring_key', 'temporary_scoring_comment']\n",
      "Processing EKyn Sleep and Sleep Dep 24-Jun PD28.24-Jun-B2.20240730181711\n",
      "duration: 73.0 hours 28.0 minutes 16.0 seconds\n",
      "duration seconds: 264496.0\n",
      "recording start: 638579458310000000\n",
      "recording stop: 638582103270000000\n",
      "['internal_property', 'logging_log_entry', 'scoring_key', 'scoring_marker', 'scoring_revision', 'scoring_revision_to_key', 'scoring_revision_to_comment', 'scoring_comment', 'workspace_workspace', 'temporary_scoring_group', 'temporary_scoring_group_to_key', 'temporary_scoring_group_to_comment', 'temporary_scoring_key', 'temporary_scoring_comment']\n",
      "Processing EKyn Sleep and Sleep Dep 24-Jun PD28.24-Jun-D1.20240730181711\n",
      "duration: 73.0 hours 28.0 minutes 16.0 seconds\n",
      "duration seconds: 264496.0\n",
      "recording start: 638579458310000000\n",
      "recording stop: 638582103270000000\n",
      "['internal_property', 'logging_log_entry', 'scoring_key', 'scoring_marker', 'scoring_revision', 'scoring_revision_to_key', 'scoring_revision_to_comment', 'scoring_comment', 'workspace_workspace', 'temporary_scoring_group', 'temporary_scoring_group_to_key', 'temporary_scoring_group_to_comment', 'temporary_scoring_key', 'temporary_scoring_comment']\n",
      "Processing EKyn Sleep and Sleep Dep 24-Jun PD28.24-Jun-D2.20240730181711\n",
      "duration: 73.0 hours 28.0 minutes 16.0 seconds\n",
      "duration seconds: 264496.0\n",
      "recording start: 638579458310000000\n",
      "recording stop: 638582103270000000\n",
      "['internal_property', 'logging_log_entry', 'scoring_key', 'scoring_marker', 'scoring_revision', 'scoring_revision_to_key', 'scoring_revision_to_comment', 'scoring_comment', 'workspace_workspace', 'temporary_scoring_group', 'temporary_scoring_group_to_key', 'temporary_scoring_group_to_comment', 'temporary_scoring_key', 'temporary_scoring_comment']\n",
      "Processing data/24-Jun PD35\n",
      "Processing EKyn Sleep and Sleep Dep 24-Jun PD35.24-Jun-A1.20240806200742\n",
      "duration: 71.0 hours 55.0 minutes 19.0 seconds\n",
      "duration seconds: 258919.0\n",
      "recording start: 638585572620000000\n",
      "recording stop: 638588161810000000\n",
      "['internal_property', 'logging_log_entry', 'scoring_key', 'scoring_marker', 'scoring_revision', 'scoring_revision_to_key', 'scoring_revision_to_comment', 'scoring_comment', 'workspace_workspace', 'temporary_scoring_group', 'temporary_scoring_group_to_key', 'temporary_scoring_group_to_comment', 'temporary_scoring_key', 'temporary_scoring_comment']\n",
      "Processing EKyn Sleep and Sleep Dep 24-Jun PD35.24-Jun-A2.20240806200742\n",
      "duration: 71.0 hours 55.0 minutes 19.0 seconds\n",
      "duration seconds: 258919.0\n",
      "recording start: 638585572620000000\n",
      "recording stop: 638588161810000000\n",
      "['internal_property', 'logging_log_entry', 'scoring_key', 'scoring_marker', 'scoring_revision', 'scoring_revision_to_key', 'scoring_revision_to_comment', 'scoring_comment', 'workspace_workspace', 'temporary_scoring_group', 'temporary_scoring_group_to_key', 'temporary_scoring_group_to_comment', 'temporary_scoring_key', 'temporary_scoring_comment']\n",
      "Processing EKyn Sleep and Sleep Dep 24-Jun PD35.24-Jun-B1.20240806200742\n",
      "duration: 71.0 hours 55.0 minutes 19.0 seconds\n",
      "duration seconds: 258919.0\n",
      "recording start: 638585572620000000\n",
      "recording stop: 638588161810000000\n",
      "['internal_property', 'logging_log_entry', 'scoring_key', 'scoring_marker', 'scoring_revision', 'scoring_revision_to_key', 'scoring_revision_to_comment', 'scoring_comment', 'workspace_workspace', 'temporary_scoring_group', 'temporary_scoring_group_to_key', 'temporary_scoring_group_to_comment', 'temporary_scoring_key', 'temporary_scoring_comment']\n",
      "Processing EKyn Sleep and Sleep Dep 24-Jun PD35.24-Jun-B2.20240806200742\n",
      "duration: 71.0 hours 55.0 minutes 19.0 seconds\n",
      "duration seconds: 258919.0\n",
      "recording start: 638585572620000000\n",
      "recording stop: 638588161810000000\n",
      "['internal_property', 'logging_log_entry', 'scoring_key', 'scoring_marker', 'scoring_revision', 'scoring_revision_to_key', 'scoring_revision_to_comment', 'scoring_comment', 'workspace_workspace', 'temporary_scoring_group', 'temporary_scoring_group_to_key', 'temporary_scoring_group_to_comment', 'temporary_scoring_key', 'temporary_scoring_comment']\n",
      "Processing EKyn Sleep and Sleep Dep 24-Jun PD35.24-Jun-D1.20240806200742\n",
      "duration: 71.0 hours 55.0 minutes 19.0 seconds\n",
      "duration seconds: 258919.0\n",
      "recording start: 638585572620000000\n",
      "recording stop: 638588161810000000\n",
      "['internal_property', 'logging_log_entry', 'scoring_key', 'scoring_marker', 'scoring_revision', 'scoring_revision_to_key', 'scoring_revision_to_comment', 'scoring_comment', 'workspace_workspace', 'temporary_scoring_group', 'temporary_scoring_group_to_key', 'temporary_scoring_group_to_comment', 'temporary_scoring_key', 'temporary_scoring_comment']\n",
      "Processing EKyn Sleep and Sleep Dep 24-Jun PD35.24-Jun-D2.20240806200742\n",
      "duration: 71.0 hours 55.0 minutes 19.0 seconds\n",
      "duration seconds: 258919.0\n",
      "recording start: 638585572620000000\n",
      "recording stop: 638588161810000000\n",
      "['internal_property', 'logging_log_entry', 'scoring_key', 'scoring_marker', 'scoring_revision', 'scoring_revision_to_key', 'scoring_revision_to_comment', 'scoring_comment', 'workspace_workspace', 'temporary_scoring_group', 'temporary_scoring_group_to_key', 'temporary_scoring_group_to_comment', 'temporary_scoring_key', 'temporary_scoring_comment']\n",
      "Processing data/24-Jun PD56\n",
      "Processing EKyn Sleep and Sleep Dep 24-Jun PD56.24-Jun-A2.20240827201830\n",
      "duration: 40.0 hours 44.0 minutes 28.0 seconds\n",
      "duration seconds: 146668.0\n",
      "recording start: 638603723100000000\n",
      "recording stop: 638605189780000000\n",
      "['internal_property', 'logging_log_entry', 'scoring_key', 'scoring_marker', 'scoring_revision', 'scoring_revision_to_key', 'scoring_revision_to_comment', 'scoring_comment', 'workspace_workspace', 'temporary_scoring_group', 'temporary_scoring_group_to_key', 'temporary_scoring_group_to_comment', 'temporary_scoring_key', 'temporary_scoring_comment']\n",
      "Processing EKyn Sleep and Sleep Dep 24-Jun PD56.24-Jun-B1.20240827201830\n",
      "duration: 70.0 hours 51.0 minutes 4.0 seconds\n",
      "duration seconds: 255064.0\n",
      "recording start: 638603723100000000\n",
      "recording stop: 638606273740000000\n",
      "['internal_property', 'logging_log_entry', 'scoring_key', 'scoring_marker', 'scoring_revision', 'scoring_revision_to_key', 'scoring_revision_to_comment', 'scoring_comment', 'workspace_workspace', 'temporary_scoring_group', 'temporary_scoring_group_to_key', 'temporary_scoring_group_to_comment', 'temporary_scoring_key', 'temporary_scoring_comment']\n",
      "Processing EKyn Sleep and Sleep Dep 24-Jun PD56.24-Jun-B2.20240827201830\n",
      "duration: 70.0 hours 51.0 minutes 4.0 seconds\n",
      "duration seconds: 255064.0\n",
      "recording start: 638603723100000000\n",
      "recording stop: 638606273740000000\n",
      "['internal_property', 'logging_log_entry', 'scoring_key', 'scoring_marker', 'scoring_revision', 'scoring_revision_to_key', 'scoring_revision_to_comment', 'scoring_comment', 'workspace_workspace', 'temporary_scoring_group', 'temporary_scoring_group_to_key', 'temporary_scoring_group_to_comment', 'temporary_scoring_key', 'temporary_scoring_comment']\n",
      "Processing EKyn Sleep and Sleep Dep 24-Jun PD56.24-Jun-D1.20240827201830\n",
      "duration: 70.0 hours 51.0 minutes 4.0 seconds\n",
      "duration seconds: 255064.0\n",
      "recording start: 638603723100000000\n",
      "recording stop: 638606273740000000\n",
      "['internal_property', 'logging_log_entry', 'scoring_key', 'scoring_marker', 'scoring_revision', 'scoring_revision_to_key', 'scoring_revision_to_comment', 'scoring_comment', 'workspace_workspace', 'temporary_scoring_group', 'temporary_scoring_group_to_key', 'temporary_scoring_group_to_comment', 'temporary_scoring_key', 'temporary_scoring_comment']\n",
      "Processing EKyn Sleep and Sleep Dep 24-Jun PD56.24-Jun-D2.20240827201830\n",
      "duration: 70.0 hours 51.0 minutes 4.0 seconds\n",
      "duration seconds: 255064.0\n",
      "recording start: 638603723100000000\n",
      "recording stop: 638606273740000000\n",
      "['internal_property', 'logging_log_entry', 'scoring_key', 'scoring_marker', 'scoring_revision', 'scoring_revision_to_key', 'scoring_revision_to_comment', 'scoring_comment', 'workspace_workspace', 'temporary_scoring_group', 'temporary_scoring_group_to_key', 'temporary_scoring_group_to_comment', 'temporary_scoring_key', 'temporary_scoring_comment']\n"
     ]
    }
   ],
   "source": [
    "experiments_dir = f'data'\n",
    "experiments = os.listdir(experiments_dir)\n",
    "model_path = 'aurora-sleep-staging/gandalf.pt'\n",
    "device = 'mps'\n",
    "\n",
    "for experiment in experiments:\n",
    "    experiment_dir = os.path.join(experiments_dir, experiment)\n",
    "    if not os.path.isdir(experiment_dir):\n",
    "        continue\n",
    "    print(f'Processing {experiment_dir}')\n",
    "    recording_ids = sorted([file.replace('.zdb','') for file in os.listdir(experiment_dir) if file.endswith('.zdb')])\n",
    "    for recording_id in recording_ids:\n",
    "        zdb_path = os.path.join(experiment_dir, recording_id + '.zdb')\n",
    "        if not os.path.exists(zdb_path):\n",
    "            print(f'{zdb_path} does not exist')\n",
    "            continue\n",
    "        print(f'Processing {recording_id}')\n",
    "\n",
    "        y_pred = pd.read_csv(f\"{zdb_path.replace('.zdb','.y_pred')}\")\n",
    "        y_pred = pd.DataFrame(y_pred).astype('str')\n",
    "        y_pred.loc[y_pred['y_pred'] == '0','y_pred'] = 'Sleep-Paradoxical'\n",
    "        y_pred.loc[y_pred['y_pred'] == '1','y_pred'] = 'Sleep-SWS'\n",
    "        y_pred.loc[y_pred['y_pred'] == '2','y_pred'] = 'Sleep-Wake'\n",
    "\n",
    "        try:\n",
    "            conn = sqlite3.connect(zdb_path)\n",
    "        except Error as e:\n",
    "            print(e)\n",
    "\n",
    "        recording_start,recording_stop = get_recording_start_stop(conn)\n",
    "        length_ns = recording_stop - recording_start # ns\n",
    "        length_s = length_ns * 1e-7 # s\n",
    "        hh = length_s // 3600\n",
    "        mm = (length_s % 3600) // 60\n",
    "        ss = ((length_s % 3600) % 60)\n",
    "\n",
    "        print(\"duration:\",hh,\"hours\",mm,\"minutes\",ss,\"seconds\")\n",
    "        print(\"duration seconds:\",length_s)\n",
    "        print(\"recording start:\",recording_start)\n",
    "        print(\"recording stop:\",recording_stop)\n",
    "\n",
    "        # drop_temporary_tables(conn)\n",
    "        print(show_tables(conn))\n",
    "        cur = conn.cursor()\n",
    "        cur.execute(\"INSERT INTO scoring_key (type) VALUES ('Automatic');\")\n",
    "        conn.commit()\n",
    "        key_id = cur.lastrowid\n",
    "\n",
    "        cur = conn.cursor()\n",
    "        cur.execute(\"INSERT INTO scoring_revision (name, is_deleted, version) VALUES ('Gandalf', 0, 0);\")\n",
    "        conn.commit()\n",
    "        scoring_revision_id = cur.lastrowid\n",
    "\n",
    "        cur = conn.cursor()\n",
    "        cur.execute(f\"INSERT INTO scoring_revision_to_key (revision_id, key_id) VALUES ({scoring_revision_id}, {key_id});\")\n",
    "        conn.commit()\n",
    "\n",
    "        epoch_start_time = int(int(recording_start * 1e-8) * 1e8) # decaseconds\n",
    "        epoch_stop_time = epoch_start_time + int(1e8)\n",
    "\n",
    "        for score in y_pred.values.flatten():\n",
    "            query = f\"\"\"\n",
    "                INSERT INTO scoring_marker \n",
    "                (starts_at, ends_at, notes, type, location, is_deleted, key_id)\n",
    "                VALUES \n",
    "                ({epoch_start_time}, {epoch_stop_time}, '', '{score}', '', 0, {key_id});\n",
    "                \"\"\"\n",
    "            \n",
    "            epoch_start_time = epoch_stop_time\n",
    "            epoch_stop_time = epoch_start_time + int(1e8)\n",
    "            \n",
    "            cur = conn.cursor()\n",
    "            cur.execute(query)\n",
    "            \n",
    "        conn.commit()\n",
    "        conn.close()"
   ]
  },
  {
   "cell_type": "code",
   "execution_count": 39,
   "id": "057906c1",
   "metadata": {},
   "outputs": [
    {
     "name": "stderr",
     "output_type": "stream",
     "text": [
      "a data/24-Jun PD28/EKyn Sleep and Sleep Dep 24-Jun PD28.24-Jun-A1.20240730181711.zdb\n",
      "a data/24-Jun PD28/EKyn Sleep and Sleep Dep 24-Jun PD28.24-Jun-A2.20240730181711.zdb\n",
      "a data/24-Jun PD28/EKyn Sleep and Sleep Dep 24-Jun PD28.24-Jun-B1.20240730181711.zdb\n",
      "a data/24-Jun PD28/EKyn Sleep and Sleep Dep 24-Jun PD28.24-Jun-B2.20240730181711.zdb\n",
      "a data/24-Jun PD28/EKyn Sleep and Sleep Dep 24-Jun PD28.24-Jun-D1.20240730181711.zdb\n",
      "a data/24-Jun PD28/EKyn Sleep and Sleep Dep 24-Jun PD28.24-Jun-D2.20240730181711.zdb\n",
      "a data/24-Jun PD35/EKyn Sleep and Sleep Dep 24-Jun PD35.24-Jun-A1.20240806200742.zdb\n",
      "a data/24-Jun PD35/EKyn Sleep and Sleep Dep 24-Jun PD35.24-Jun-A2.20240806200742.zdb\n",
      "a data/24-Jun PD35/EKyn Sleep and Sleep Dep 24-Jun PD35.24-Jun-B1.20240806200742.zdb\n",
      "a data/24-Jun PD35/EKyn Sleep and Sleep Dep 24-Jun PD35.24-Jun-B2.20240806200742.zdb\n",
      "a data/24-Jun PD35/EKyn Sleep and Sleep Dep 24-Jun PD35.24-Jun-D1.20240806200742.zdb\n",
      "a data/24-Jun PD35/EKyn Sleep and Sleep Dep 24-Jun PD35.24-Jun-D2.20240806200742.zdb\n",
      "a data/24-Jun PD42/EKyn Sleep and Sleep Dep 24-June PD42.24-Jun-A1.20240813194518.zdb\n",
      "a data/24-Jun PD42/EKyn Sleep and Sleep Dep 24-June PD42.24-Jun-A2.20240813194518.zdb\n",
      "a data/24-Jun PD42/EKyn Sleep and Sleep Dep 24-June PD42.24-Jun-B1.20240813194518.zdb\n",
      "a data/24-Jun PD42/EKyn Sleep and Sleep Dep 24-June PD42.24-Jun-B2.20240813194518.zdb\n",
      "a data/24-Jun PD42/EKyn Sleep and Sleep Dep 24-June PD42.24-Jun-D1.20240813194518.zdb\n",
      "a data/24-Jun PD42/EKyn Sleep and Sleep Dep 24-June PD42.24-Jun-D2.20240813194518.zdb\n",
      "a data/24-Jun PD49/EKyn Sleep and Sleep Dep 24-Jun PD49.24-Jun-A1.20240820203421.zdb\n",
      "a data/24-Jun PD49/EKyn Sleep and Sleep Dep 24-Jun PD49.24-Jun-A2.20240820203421.zdb\n",
      "a data/24-Jun PD49/EKyn Sleep and Sleep Dep 24-Jun PD49.24-Jun-B1.20240820203421.zdb\n",
      "a data/24-Jun PD49/EKyn Sleep and Sleep Dep 24-Jun PD49.24-Jun-B2.20240820203421.zdb\n",
      "a data/24-Jun PD49/EKyn Sleep and Sleep Dep 24-Jun PD49.24-Jun-D1.20240820203421.zdb\n",
      "a data/24-Jun PD49/EKyn Sleep and Sleep Dep 24-Jun PD49.24-Jun-D2.20240820203421.zdb\n",
      "a data/24-Jun PD56/EKyn Sleep and Sleep Dep 24-Jun PD56.24-Jun-A2.20240827201830.zdb\n",
      "a data/24-Jun PD56/EKyn Sleep and Sleep Dep 24-Jun PD56.24-Jun-B1.20240827201830.zdb\n",
      "a data/24-Jun PD56/EKyn Sleep and Sleep Dep 24-Jun PD56.24-Jun-B2.20240827201830.zdb\n",
      "a data/24-Jun PD56/EKyn Sleep and Sleep Dep 24-Jun PD56.24-Jun-D1.20240827201830.zdb\n",
      "a data/24-Jun PD56/EKyn Sleep and Sleep Dep 24-Jun PD56.24-Jun-D2.20240827201830.zdb\n"
     ]
    },
    {
     "data": {
      "text/plain": [
       "0"
      ]
     },
     "execution_count": 39,
     "metadata": {},
     "output_type": "execute_result"
    }
   ],
   "source": [
    "os.system(f'tar -czvf data.tar.gz data/*/*.zdb')"
   ]
  }
 ],
 "metadata": {
  "kernelspec": {
   "display_name": "Python 3",
   "language": "python",
   "name": "python3"
  },
  "language_info": {
   "codemirror_mode": {
    "name": "ipython",
    "version": 3
   },
   "file_extension": ".py",
   "mimetype": "text/x-python",
   "name": "python",
   "nbconvert_exporter": "python",
   "pygments_lexer": "ipython3",
   "version": "3.12.9"
  }
 },
 "nbformat": 4,
 "nbformat_minor": 5
}
